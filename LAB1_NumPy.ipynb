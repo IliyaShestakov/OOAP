{
  "nbformat": 4,
  "nbformat_minor": 0,
  "metadata": {
    "colab": {
      "name": "LAB1_NumPy.ipynb",
      "provenance": [],
      "authorship_tag": "ABX9TyPsp12fXu/5SdXcT/N0zE11",
      "include_colab_link": true
    },
    "kernelspec": {
      "name": "python3",
      "display_name": "Python 3"
    },
    "language_info": {
      "name": "python"
    }
  },
  "cells": [
    {
      "cell_type": "markdown",
      "metadata": {
        "id": "view-in-github",
        "colab_type": "text"
      },
      "source": [
        "<a href=\"https://colab.research.google.com/github/IliyaShestakov/OOAP/blob/main/LAB1_NumPy.ipynb\" target=\"_parent\"><img src=\"https://colab.research.google.com/assets/colab-badge.svg\" alt=\"Open In Colab\"/></a>"
      ]
    },
    {
      "cell_type": "code",
      "execution_count": 2,
      "metadata": {
        "colab": {
          "base_uri": "https://localhost:8080/"
        },
        "id": "4VVj1_9hJeZY",
        "outputId": "ba068983-a12f-439f-a564-94bd8badc0a4"
      },
      "outputs": [
        {
          "output_type": "stream",
          "name": "stdout",
          "text": [
            "9\n",
            "[0. 0. 0. 0. 0. 0. 0. 0. 0.]\n"
          ]
        }
      ],
      "source": [
        "# 1.1\n",
        "import numpy as np\n",
        "n = int(input())\n",
        "Z = np.zeros(n)\n",
        "print(Z)"
      ]
    },
    {
      "cell_type": "code",
      "source": [
        "# 1.2\n",
        "Z = np.zeros((10, 10), dtype = np.float64)\n",
        "p = Z.itemsize\n",
        "r = Z.size\n",
        "print(p * r)"
      ],
      "metadata": {
        "colab": {
          "base_uri": "https://localhost:8080/"
        },
        "id": "wom9OXRjLw8G",
        "outputId": "a92ef9a8-b327-4ca9-c86c-4631618ca6f0"
      },
      "execution_count": null,
      "outputs": [
        {
          "output_type": "stream",
          "name": "stdout",
          "text": [
            "800\n"
          ]
        }
      ]
    },
    {
      "cell_type": "code",
      "source": [
        "Z = np.array([1, 2, 3], dtype = np.float64)\n",
        "p = Z.itemsize\n",
        "r = Z.size\n",
        "print(p * r)"
      ],
      "metadata": {
        "colab": {
          "base_uri": "https://localhost:8080/"
        },
        "id": "8UPuoX5MM4Et",
        "outputId": "ae3a03da-f390-48fb-d5bb-89093bfc1f80"
      },
      "execution_count": null,
      "outputs": [
        {
          "output_type": "stream",
          "name": "stdout",
          "text": [
            "24\n"
          ]
        }
      ]
    },
    {
      "cell_type": "code",
      "source": [
        "# 1.3\n",
        "n = int(input())\n",
        "Z = np.zeros(n)\n",
        "m = int(input())\n",
        "Z[m] = 1\n",
        "print(Z)"
      ],
      "metadata": {
        "colab": {
          "base_uri": "https://localhost:8080/"
        },
        "id": "5P8BQ9JiMexI",
        "outputId": "bff9fac3-d71f-4edb-9c00-b70d36aa522e"
      },
      "execution_count": null,
      "outputs": [
        {
          "output_type": "stream",
          "name": "stdout",
          "text": [
            "10\n",
            "4\n",
            "[0. 0. 0. 0. 1. 0. 0. 0. 0. 0.]\n"
          ]
        }
      ]
    },
    {
      "cell_type": "code",
      "source": [
        "# 1.4\n",
        "n = int(input())\n",
        "m = int(input())\n",
        "Z = np.arange(n, m + 1)\n",
        "print(Z)"
      ],
      "metadata": {
        "colab": {
          "base_uri": "https://localhost:8080/"
        },
        "id": "KawxRZRfOP_I",
        "outputId": "8bbe69ed-9c55-4562-9f1b-82df05f5a6d4"
      },
      "execution_count": null,
      "outputs": [
        {
          "output_type": "stream",
          "name": "stdout",
          "text": [
            "10\n",
            "50\n",
            "[10 11 12 13 14 15 16 17 18 19 20 21 22 23 24 25 26 27 28 29 30 31 32 33\n",
            " 34 35 36 37 38 39 40 41 42 43 44 45 46 47 48 49 50]\n"
          ]
        }
      ]
    },
    {
      "cell_type": "code",
      "source": [
        "# 1.5\n",
        "Z = np.array([1, 2, 3, 4])\n",
        "Z = Z[::-1]\n",
        "print(Z)"
      ],
      "metadata": {
        "colab": {
          "base_uri": "https://localhost:8080/"
        },
        "id": "nY-RPJEzO5y_",
        "outputId": "e41ec8b6-7bfc-49e5-ee15-a536ac1c6d0d"
      },
      "execution_count": null,
      "outputs": [
        {
          "output_type": "stream",
          "name": "stdout",
          "text": [
            "[4 3 2 1]\n"
          ]
        }
      ]
    },
    {
      "cell_type": "code",
      "source": [
        "# 1.6\n",
        "n = int(input())\n",
        "m, k = map(int, input().split())\n",
        "Z = np.arange(n).reshape(m,k)\n",
        "print(Z)"
      ],
      "metadata": {
        "colab": {
          "base_uri": "https://localhost:8080/"
        },
        "id": "mgpj4RoYQATD",
        "outputId": "80d544c5-7756-4512-93d4-6c6319b36c0e"
      },
      "execution_count": 3,
      "outputs": [
        {
          "output_type": "stream",
          "name": "stdout",
          "text": [
            "6\n",
            "2 3\n",
            "[[0 1 2]\n",
            " [3 4 5]]\n"
          ]
        }
      ]
    },
    {
      "cell_type": "code",
      "source": [
        "# 1.7\n",
        "Z = np.array([1, 2, 0, 0, 4, 0])\n",
        "NonZerros = np.nonzero(Z)\n",
        "print(NonZerros)"
      ],
      "metadata": {
        "colab": {
          "base_uri": "https://localhost:8080/"
        },
        "id": "4dAyowfYQ-C6",
        "outputId": "2c4b5521-ed9b-4124-854f-0ea52cab0cf3"
      },
      "execution_count": 7,
      "outputs": [
        {
          "output_type": "stream",
          "name": "stdout",
          "text": [
            "(array([0, 1, 4]),)\n"
          ]
        }
      ]
    },
    {
      "cell_type": "code",
      "source": [
        "Z = np.array([1, 2, 0, 0, 4, 0])\n",
        "NonZerros = np.nonzero(Z)\n",
        "print(NonZerros)"
      ],
      "metadata": {
        "colab": {
          "base_uri": "https://localhost:8080/"
        },
        "id": "9JNys1fqSgH5",
        "outputId": "0a67ead3-0880-43ed-c9b3-af01ab7c60a3"
      },
      "execution_count": null,
      "outputs": [
        {
          "output_type": "stream",
          "name": "stdout",
          "text": [
            "(array([0, 1, 4]),)\n"
          ]
        }
      ]
    },
    {
      "cell_type": "code",
      "source": [
        "# 1.8\n",
        "Z = np.eye(3)\n",
        "print(Z)"
      ],
      "metadata": {
        "colab": {
          "base_uri": "https://localhost:8080/"
        },
        "id": "yCzDjc69TE-r",
        "outputId": "83440a58-45f8-4d66-b5c2-fa078c097998"
      },
      "execution_count": null,
      "outputs": [
        {
          "output_type": "stream",
          "name": "stdout",
          "text": [
            "[[1. 0. 0.]\n",
            " [0. 1. 0.]\n",
            " [0. 0. 1.]]\n"
          ]
        }
      ]
    },
    {
      "cell_type": "code",
      "source": [
        "# 1.9\n",
        "np.random.seed(42) \n",
        "n = int(input())\n",
        "l = int(input())\n",
        "m = int(input())\n",
        "Z = np.random.random((n,l,m))\n",
        "print(Z)"
      ],
      "metadata": {
        "colab": {
          "base_uri": "https://localhost:8080/"
        },
        "id": "myUXTSTqTNFn",
        "outputId": "04ce4de4-ec9a-4fd8-d6d9-0523d9487e48"
      },
      "execution_count": null,
      "outputs": [
        {
          "output_type": "stream",
          "name": "stdout",
          "text": [
            "2\n",
            "2\n",
            "2\n",
            "[[[0.37454012 0.95071431]\n",
            "  [0.73199394 0.59865848]]\n",
            "\n",
            " [[0.15601864 0.15599452]\n",
            "  [0.05808361 0.86617615]]]\n"
          ]
        }
      ]
    },
    {
      "cell_type": "code",
      "source": [
        "# 1.10\n",
        "np.random.seed(42)\n",
        "n = int(input())\n",
        "m = int(input())\n",
        "Z = np.random.random((n, m))\n",
        "Zmin, Zmax = Z.min(), Z.max()\n",
        "print(Zmin, Zmax)"
      ],
      "metadata": {
        "colab": {
          "base_uri": "https://localhost:8080/"
        },
        "id": "gXH3utwfUkXh",
        "outputId": "7d464806-8679-48cc-f86d-86d7058ec307"
      },
      "execution_count": null,
      "outputs": [
        {
          "output_type": "stream",
          "name": "stdout",
          "text": [
            "10\n",
            "10\n",
            "0.005522117123602399 0.9868869366005173\n"
          ]
        }
      ]
    },
    {
      "cell_type": "code",
      "source": [
        "np.random.seed(42)\n",
        "n = int(input())\n",
        "m = int(input())\n",
        "Z = np.random.random((n, m))\n",
        "Zmin, Zmax = Z.min(), Z.max()\n",
        "print(Zmin, Zmax)"
      ],
      "metadata": {
        "colab": {
          "base_uri": "https://localhost:8080/"
        },
        "id": "UfAc6xwEW5Yh",
        "outputId": "e7eb1077-49a6-4ef3-f641-70c26e72d90b"
      },
      "execution_count": null,
      "outputs": [
        {
          "output_type": "stream",
          "name": "stdout",
          "text": [
            "2\n",
            "6\n",
            "0.020584494295802447 0.9699098521619943\n"
          ]
        }
      ]
    },
    {
      "cell_type": "code",
      "source": [
        "# 1.11\n",
        "np.random.seed(42)\n",
        "n = int(input())\n",
        "m = int(input())\n",
        "Z = np.random.random((n,m))\n",
        "c = Z.mean()\n",
        "print(c)"
      ],
      "metadata": {
        "colab": {
          "base_uri": "https://localhost:8080/"
        },
        "id": "P8ox6OiDW9ed",
        "outputId": "60ccb3e9-d9a2-4bf8-df84-7be29e553a8f"
      },
      "execution_count": null,
      "outputs": [
        {
          "output_type": "stream",
          "name": "stdout",
          "text": [
            "30\n",
            "30\n",
            "0.4923750160905882\n"
          ]
        }
      ]
    },
    {
      "cell_type": "code",
      "source": [
        "np.random.seed(42)\n",
        "n = int(input())\n",
        "m = int(input())\n",
        "Z = np.random.random((n,m))\n",
        "c = Z.mean()\n",
        "print(c)"
      ],
      "metadata": {
        "colab": {
          "base_uri": "https://localhost:8080/"
        },
        "id": "9HlpZoqZXf0-",
        "outputId": "7c2e04cf-5790-4704-b497-2fcc69c59f6e"
      },
      "execution_count": null,
      "outputs": [
        {
          "output_type": "stream",
          "name": "stdout",
          "text": [
            "12\n",
            "6\n",
            "0.46798212705144554\n"
          ]
        }
      ]
    },
    {
      "cell_type": "code",
      "source": [
        "# 1.12\n",
        "A = np.array([1.5, 2.5, 3.5])\n",
        "B = np.array([4, 5, 6])\n",
        "Z = np.dot(A, B)\n",
        "print(Z)"
      ],
      "metadata": {
        "colab": {
          "base_uri": "https://localhost:8080/"
        },
        "id": "qP-A6UCbXpbh",
        "outputId": "ca5c7726-8780-4661-aa70-8ba32e4a4b87"
      },
      "execution_count": null,
      "outputs": [
        {
          "output_type": "stream",
          "name": "stdout",
          "text": [
            "39.5\n"
          ]
        }
      ]
    },
    {
      "cell_type": "code",
      "source": [
        "A = np.array([1, 3, 5, 7, 9])\n",
        "B = np.array([-2, 4, -6, 8, -10])\n",
        "Z = np.dot(A, B)\n",
        "print(Z)"
      ],
      "metadata": {
        "colab": {
          "base_uri": "https://localhost:8080/"
        },
        "id": "GnY-AEA3YjBU",
        "outputId": "e230934c-cd3e-4a4d-9e10-1902d8a2a803"
      },
      "execution_count": null,
      "outputs": [
        {
          "output_type": "stream",
          "name": "stdout",
          "text": [
            "-54\n"
          ]
        }
      ]
    },
    {
      "cell_type": "code",
      "source": [
        "# 1.13\n",
        "A = np.array([\n",
        " [1, 2, 3],\n",
        " [4, 5, 6]\n",
        "])\n",
        "B = np.array([\n",
        " [11.5],\n",
        " [12.5],\n",
        " [13.5]\n",
        "])\n",
        "rows1, columns1 = A.shape\n",
        "rows2, columns2 = B.shape\n",
        "if columns1 == rows2:\n",
        "    Z = np.dot(A, B)\n",
        "    print(Z) \n",
        "else:\n",
        "    Z = \"Упс! Что-то пошло не так...\"\n",
        "    print(Z)"
      ],
      "metadata": {
        "colab": {
          "base_uri": "https://localhost:8080/"
        },
        "id": "Lo8bc4GQYu3W",
        "outputId": "7ad61fa7-bc95-4786-c104-c103074b51c2"
      },
      "execution_count": null,
      "outputs": [
        {
          "output_type": "stream",
          "name": "stdout",
          "text": [
            "[[ 77. ]\n",
            " [189.5]]\n"
          ]
        }
      ]
    },
    {
      "cell_type": "code",
      "source": [
        "A = np.array([\n",
        " [1, 2, 3],\n",
        " [4, 5, 6]\n",
        "])\n",
        "B = np.array([\n",
        " [11.5, 12.5, 13.5]\n",
        "])\n",
        "rows1, columns1 = A.shape\n",
        "rows2, columns2 = B.shape\n",
        "if columns1 == rows2:\n",
        "    Z = np.dot(A, B)\n",
        "    print(Z) \n",
        "else:\n",
        "    Z = \"Упс! Что-то пошло не так...\"\n",
        "    print(Z)"
      ],
      "metadata": {
        "colab": {
          "base_uri": "https://localhost:8080/"
        },
        "id": "EZMhKm7qZXIN",
        "outputId": "03db2dc7-710e-4465-fcb6-9acd6d339ca3"
      },
      "execution_count": null,
      "outputs": [
        {
          "output_type": "stream",
          "name": "stdout",
          "text": [
            "Упс! Что-то пошло не так...\n"
          ]
        }
      ]
    },
    {
      "cell_type": "code",
      "source": [
        "# 1.14\n",
        "Z = np.arange(11)\n",
        "Z[(3 < Z) & (Z <= 8)] *= -1\n",
        "print(Z)"
      ],
      "metadata": {
        "colab": {
          "base_uri": "https://localhost:8080/"
        },
        "id": "NGM3YSHhb5xu",
        "outputId": "7375afb5-1024-4d5e-e236-c0f5ebd3e16b"
      },
      "execution_count": null,
      "outputs": [
        {
          "output_type": "stream",
          "name": "stdout",
          "text": [
            "[ 0  1  2  3 -4 -5 -6 -7 -8  9 10]\n"
          ]
        }
      ]
    },
    {
      "cell_type": "code",
      "source": [
        "Z = np.array([-10, -5, 0, 5, 10])\n",
        "Z[(3 < Z) & (Z <= 8)] *= -1\n",
        "print(Z)"
      ],
      "metadata": {
        "colab": {
          "base_uri": "https://localhost:8080/"
        },
        "id": "k2plSFrXi5_Y",
        "outputId": "a6346b87-4905-4c96-a892-723c1dc88239"
      },
      "execution_count": null,
      "outputs": [
        {
          "output_type": "stream",
          "name": "stdout",
          "text": [
            "[-10  -5   0  -5  10]\n"
          ]
        }
      ]
    },
    {
      "cell_type": "code",
      "source": [
        "# 1.15\n",
        "X = np.array([[1, 0, 1], [2, 0, 2], [3, 0, 3], [4, 4, 4]])\n",
        "np.prod(np.diag(X)[np.diag(X)!=0])\n"
      ],
      "metadata": {
        "colab": {
          "base_uri": "https://localhost:8080/"
        },
        "id": "KxB5xacCjT5M",
        "outputId": "9b06439a-c6f6-454c-da7f-6c5d4af3792f"
      },
      "execution_count": null,
      "outputs": [
        {
          "output_type": "execute_result",
          "data": {
            "text/plain": [
              "3"
            ]
          },
          "metadata": {},
          "execution_count": 53
        }
      ]
    },
    {
      "cell_type": "code",
      "source": [
        "# 1.16\n",
        "n = int(input())\n",
        "Z = np.full(n, 0)\n",
        "print(Z)"
      ],
      "metadata": {
        "colab": {
          "base_uri": "https://localhost:8080/"
        },
        "id": "x308c2fZmm5e",
        "outputId": "48149b47-c437-43e8-a59c-d6c6ae68d300"
      },
      "execution_count": null,
      "outputs": [
        {
          "output_type": "stream",
          "name": "stdout",
          "text": [
            "5\n",
            "[0 0 0 0 0]\n"
          ]
        }
      ]
    },
    {
      "cell_type": "code",
      "source": [
        "# 1.17\n",
        "Z = np.zeros((10, 10))\n",
        "print(Z.nbytes)"
      ],
      "metadata": {
        "colab": {
          "base_uri": "https://localhost:8080/"
        },
        "id": "--ieJs8xm_ZR",
        "outputId": "91e19600-44ba-44ee-e1e2-fd546892c590"
      },
      "execution_count": null,
      "outputs": [
        {
          "output_type": "stream",
          "name": "stdout",
          "text": [
            "800\n"
          ]
        }
      ]
    },
    {
      "cell_type": "code",
      "source": [
        "Z = np.array([1,2,3], dtype=np.float64)\n",
        "print(Z.nbytes)"
      ],
      "metadata": {
        "colab": {
          "base_uri": "https://localhost:8080/"
        },
        "id": "3iqFdOj0rJ7R",
        "outputId": "00f7d972-c4c9-4dd6-cd09-cb1d03401eb1"
      },
      "execution_count": null,
      "outputs": [
        {
          "output_type": "stream",
          "name": "stdout",
          "text": [
            "24\n"
          ]
        }
      ]
    },
    {
      "cell_type": "code",
      "source": [
        "# 1.18\n",
        "n = int(input())\n",
        "Z = np.full(n, 0)\n",
        "m = int(input())\n",
        "Z[m] = 1\n",
        "print(Z)"
      ],
      "metadata": {
        "colab": {
          "base_uri": "https://localhost:8080/"
        },
        "id": "j7q-YUuJrWkt",
        "outputId": "20737ccc-258b-4fba-b114-dc317fe232d4"
      },
      "execution_count": null,
      "outputs": [
        {
          "output_type": "stream",
          "name": "stdout",
          "text": [
            "10\n",
            "4\n",
            "[0 0 0 0 1 0 0 0 0 0]\n"
          ]
        }
      ]
    },
    {
      "cell_type": "code",
      "source": [
        "# 1.19\n",
        "x = int(input())\n",
        "y = int(input())\n",
        "Z = np.zeros(shape=y+1 - x, dtype=int)\n",
        "for i in range(len(Z)):\n",
        "    Z[i] = x\n",
        "    x += 1\n",
        "print(Z)"
      ],
      "metadata": {
        "colab": {
          "base_uri": "https://localhost:8080/"
        },
        "id": "Hv0Hp-dHslO8",
        "outputId": "6cf194e5-01b5-4489-9765-caad4a5512f7"
      },
      "execution_count": null,
      "outputs": [
        {
          "output_type": "stream",
          "name": "stdout",
          "text": [
            "10\n",
            "50\n",
            "[10 11 12 13 14 15 16 17 18 19 20 21 22 23 24 25 26 27 28 29 30 31 32 33\n",
            " 34 35 36 37 38 39 40 41 42 43 44 45 46 47 48 49 50]\n"
          ]
        }
      ]
    },
    {
      "cell_type": "code",
      "source": [
        "# 1.20"
      ],
      "metadata": {
        "id": "Q-KljQzlu7_F"
      },
      "execution_count": null,
      "outputs": []
    },
    {
      "cell_type": "code",
      "source": [
        "# 1.21\n",
        "n = int(input())\n",
        "m, l = tuple(map(int, input().split()))\n",
        "\n",
        "Z = np.zeros((m, l), dtype = 'int')\n",
        "\n",
        "for i in range(m):\n",
        "    Z[i] = np.arange(l*i, l*(i+1))\n",
        "print(Z)"
      ],
      "metadata": {
        "colab": {
          "base_uri": "https://localhost:8080/"
        },
        "id": "53AByvWlfmF3",
        "outputId": "e1d59070-45e9-444d-ef28-bd0df8c39a7f"
      },
      "execution_count": 5,
      "outputs": [
        {
          "output_type": "stream",
          "name": "stdout",
          "text": [
            "6\n",
            "2 3\n",
            "[[0 1 2]\n",
            " [3 4 5]]\n"
          ]
        }
      ]
    },
    {
      "cell_type": "code",
      "source": [
        "# 1.22"
      ],
      "metadata": {
        "id": "CjHUSZLwhmk3"
      },
      "execution_count": null,
      "outputs": []
    },
    {
      "cell_type": "code",
      "source": [
        "# 1.23\n",
        "n = int(input())\n",
        "Z = np.zeros(n * n)\n",
        "Z[::n + 1] = 1\n",
        "Z = Z.reshape([n, n])\n",
        "print(Z)"
      ],
      "metadata": {
        "id": "_wQ4z3p3lH9g"
      },
      "execution_count": null,
      "outputs": []
    },
    {
      "cell_type": "code",
      "source": [
        "# 1.24"
      ],
      "metadata": {
        "id": "VEGApd8rl8DK"
      },
      "execution_count": null,
      "outputs": []
    },
    {
      "cell_type": "code",
      "source": [
        "# 1.25\n",
        "np.random.seed(42)\n",
        "Z = np.random.rand(*map(int, input().split()))\n",
        "print(np.amin(Z))\n",
        "print(np.amax(Z))"
      ],
      "metadata": {
        "colab": {
          "base_uri": "https://localhost:8080/"
        },
        "id": "_nzFh_7CnMkS",
        "outputId": "368b11a8-b6ff-495a-e155-1e1128339b0b"
      },
      "execution_count": 8,
      "outputs": [
        {
          "output_type": "stream",
          "name": "stdout",
          "text": [
            "10 10\n",
            "0.005522117123602399\n",
            "0.9868869366005173\n"
          ]
        }
      ]
    }
  ]
}